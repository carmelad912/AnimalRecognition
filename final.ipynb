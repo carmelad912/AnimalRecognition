{
 "cells": [
  {
   "cell_type": "code",
   "execution_count": 1,
   "metadata": {},
   "outputs": [
    {
     "name": "stderr",
     "output_type": "stream",
     "text": [
      "Using Theano backend.\n"
     ]
    }
   ],
   "source": [
    "import numpy as np # linear algebra\n",
    "import matplotlib.pylab as plt\n",
    "from random import shuffle\n",
    "from keras.preprocessing import image\n",
    "import os\n",
    "import zipfile\n",
    "import random\n",
    "import PIL #import Image\n",
    "from keras.layers import Dense, Dropout, Activation, Flatten\n",
    "from keras.layers import Convolution2D, MaxPooling2D\n",
    "from keras.models import Sequential\n",
    "\n",
    "hight = 128\n",
    "width = 128\n",
    "CHANNELS = 3\n",
    "\n",
    "from keras.applications import VGG16\n",
    "from keras.applications import *\n",
    "from keras import Model\n",
    "from keras.layers import Input, Dense\n"
   ]
  },
  {
   "cell_type": "code",
   "execution_count": 2,
   "metadata": {
    "collapsed": true
   },
   "outputs": [],
   "source": [
    "#insert all images to correct arrays\n",
    "cats=[]\n",
    "dogs=[]\n",
    "jackels=[]\n",
    "sheeps=[]\n",
    "for file in os.listdir('C:/Users/Dar/Desktop/untitled3/train/images/cat'):\n",
    "    if file.endswith(\".jpg\"):\n",
    "        cats.append(file)\n",
    "for file in os.listdir('C:/Users/Dar/Desktop/untitled3/train/images/dog'):\n",
    "    if file.endswith(\".jpg\"):\n",
    "        dogs.append(file)\n",
    "for file in os.listdir('C:/Users/Dar/Desktop/untitled3/train/images/jackel'):\n",
    "    if file.endswith(\".jpg\"):\n",
    "        jackels.append(file)\n",
    "for file in os.listdir('C:/Users/Dar/Desktop/untitled3/train/images/sheep'):\n",
    "    if file.endswith(\".jpg\"):\n",
    "        sheeps.append(file)\n",
    "total_len=len(cats)+len(dogs)+len(jackels)+len(sheeps)\n",
    "#print(total_len)"
   ]
  },
  {
   "cell_type": "code",
   "execution_count": 3,
   "metadata": {
    "collapsed": true
   },
   "outputs": [],
   "source": [
    "#initializing a matrix of zeros with the required input structure\n",
    "data = np.zeros(shape=(total_len,hight,width,CHANNELS),dtype=np.uint8)\n",
    "#print(data)\n",
    "#initializing a matrix of zeros with the required output structure\n",
    "labels = np.zeros((total_len,4))\n",
    "#print(labels)"
   ]
  },
  {
   "cell_type": "code",
   "execution_count": 4,
   "metadata": {},
   "outputs": [
    {
     "name": "stdout",
     "output_type": "stream",
     "text": [
      "cats\n",
      "dogs\n",
      "j\n",
      "s\n"
     ]
    }
   ],
   "source": [
    "\n",
    "for i,img_path in enumerate(cats):\n",
    "    img = image.load_img('C:/Users/Dar/Desktop/untitled3/train/images/cat/'+img_path, target_size=(hight,width))\n",
    "    data[i]=image.img_to_array(img)\n",
    "    labels[i,0] = 1\n",
    "print(\"cats\")\n",
    "for i,img_path in enumerate(dogs):\n",
    "    img = image.load_img('C:/Users/Dar/Desktop/untitled3/train/images/dog/'+img_path, target_size=(hight,width))\n",
    "    data[i+len(cats)]=image.img_to_array(img)\n",
    "    labels[i+len(cats),1] = 1\n",
    "print(\"dogs\")   \n",
    "for i,img_path in enumerate(jackels):\n",
    "    img = image.load_img('C:/Users/Dar/Desktop/untitled3/train/images/jackel/'+img_path, target_size=(hight,width))\n",
    "    data[i+len(cats)+len(dogs)]=image.img_to_array(img)\n",
    "    labels[i+len(cats)+len(dogs),2] = 1\n",
    "print(\"j\")\n",
    "for i,img_path in enumerate(sheeps):\n",
    "    img = image.load_img('C:/Users/Dar/Desktop/untitled3/train/images/sheep/'+img_path, target_size=(hight,width))\n",
    "    data[i+len(cats)+len(dogs)+len(jackels)]=image.img_to_array(img)\n",
    "    labels[i+len(cats)+len(dogs)+len(jackels),3] = 1    \n",
    "print(\"s\")"
   ]
  },
  {
   "cell_type": "code",
   "execution_count": 5,
   "metadata": {},
   "outputs": [
    {
     "name": "stdout",
     "output_type": "stream",
     "text": [
      "371\n",
      "1480\n"
     ]
    }
   ],
   "source": [
    "#plt.imshow(data[0])\n",
    "#The final preprocessing step for the input data is to convert our data type to float32 and normalize our data values to the range [0, 1].\n",
    "data = data.astype('float32')\n",
    "data /= 255\n",
    "\n",
    "#randomly divide the data to train and test sets\n",
    "indices = np.arange(len(data))\n",
    "random.shuffle(indices)\n",
    "train_x = data[indices[:int(len(indices)*0.8)]]\n",
    "train_y = labels[indices[:int(len(indices)*0.8)]]\n",
    "test_x = data[indices[int(len(indices)*0.8):]]\n",
    "test_y = labels[indices[int(len(indices)*0.8):]]\n",
    "print(len(test_x))\n",
    "print(len(train_x))"
   ]
  },
  {
   "cell_type": "code",
   "execution_count": 6,
   "metadata": {},
   "outputs": [
    {
     "name": "stdout",
     "output_type": "stream",
     "text": [
      "115\n",
      "103\n",
      "45\n",
      "108\n"
     ]
    }
   ],
   "source": [
    "#to calculate the classification accuracy, precision and recall for each class, we divided the test set according to classes. \n",
    "where_are_cats=[]\n",
    "where_are_dogs=[]\n",
    "where_are_jackals=[]\n",
    "where_are_sheeps=[]\n",
    "\n",
    "for i in range(len(test_y)):\n",
    "    if test_y[i][0]==1:\n",
    "        where_are_cats.append(i)\n",
    "    if test_y[i][1]==1:\n",
    "        where_are_dogs.append(i)\n",
    "    if test_y[i][2]==1:\n",
    "        where_are_jackals.append(i)\n",
    "    if test_y[i][3]==1:\n",
    "        where_are_sheeps.append(i)\n",
    "\n",
    "print(len(where_are_cats))\n",
    "print(len(where_are_dogs))\n",
    "print(len(where_are_jackals))\n",
    "print(len(where_are_sheeps))\n",
    "\n",
    "test_y_cats = np.zeros((len(where_are_cats),4))\n",
    "test_x_cats= np.zeros(shape=(len(where_are_cats),hight,width,CHANNELS),dtype=np.float32)\n",
    "test_y_dogs = np.zeros((len(where_are_dogs),4))\n",
    "test_x_dogs= np.zeros(shape=(len(where_are_dogs),hight,width,CHANNELS),dtype=np.float32)\n",
    "test_y_jackals = np.zeros((len(where_are_jackals),4))\n",
    "test_x_jackals= np.zeros(shape=(len(where_are_jackals),hight,width,CHANNELS),dtype=np.float32)\n",
    "test_y_sheeps = np.zeros((len(where_are_sheeps),4))\n",
    "test_x_sheeps= np.zeros(shape=(len(where_are_sheeps),hight,width,CHANNELS),dtype=np.float32)\n",
    "\n",
    "for i in range(len(where_are_cats)):\n",
    "    test_x_cats[i]=test_x[where_are_cats[i]]\n",
    "    test_y_cats[i]=test_y[where_are_cats[i]]\n",
    "for i in range(len(where_are_dogs)):\n",
    "    test_x_dogs[i]=test_x[where_are_dogs[i]]\n",
    "    test_y_dogs[i]=test_y[where_are_dogs[i]]\n",
    "for i in range(len(where_are_jackals)):\n",
    "    test_x_jackals[i]=test_x[where_are_jackals[i]]\n",
    "    test_y_jackals[i]=test_y[where_are_jackals[i]]\n",
    "for i in range(len(where_are_sheeps)):\n",
    "    test_x_sheeps[i]=test_x[where_are_sheeps[i]]\n",
    "    test_y_sheeps[i]=test_y[where_are_sheeps[i]]\n",
    "\n",
    "#print(test_y_cats)\n",
    "#print(test_x_cats)\n"
   ]
  },
  {
   "cell_type": "code",
   "execution_count": null,
   "metadata": {},
   "outputs": [
    {
     "name": "stderr",
     "output_type": "stream",
     "text": [
      "C:\\Users\\Dar\\Anaconda3\\lib\\site-packages\\ipykernel_launcher.py:3: UserWarning: Update your `Conv2D` call to the Keras 2 API: `Conv2D(32, (3, 3), activation=\"relu\", input_shape=(128, 128,...)`\n",
      "  This is separate from the ipykernel package so we can avoid doing imports until\n",
      "C:\\Users\\Dar\\Anaconda3\\lib\\site-packages\\ipykernel_launcher.py:5: UserWarning: Update your `Conv2D` call to the Keras 2 API: `Conv2D(32, (3, 3), activation=\"relu\")`\n",
      "  \"\"\"\n",
      "C:\\Users\\Dar\\Anaconda3\\lib\\site-packages\\keras\\models.py:944: UserWarning: The `nb_epoch` argument in `fit` has been renamed `epochs`.\n",
      "  warnings.warn('The `nb_epoch` argument in `fit` '\n"
     ]
    },
    {
     "name": "stdout",
     "output_type": "stream",
     "text": [
      "Epoch 1/14\n",
      "1480/1480 [==============================] - 82s 56ms/step - loss: 1.2947 - acc: 0.4034\n",
      "Epoch 2/14\n",
      " 544/1480 [==========>...................] - ETA: 59s - loss: 1.0815 - acc: 0.5018 "
     ]
    }
   ],
   "source": [
    "#create the classification model\n",
    "model = Sequential()\n",
    "model.add(Convolution2D(32, 3, 3, activation='relu', input_shape=(hight,width,3)))\n",
    "model.add(MaxPooling2D(pool_size=(2,2)))\n",
    "model.add(Convolution2D(32, 3, 3, activation='relu'))\n",
    "model.add(MaxPooling2D(pool_size=(2,2)))\n",
    "model.add(Dropout(0.25))\n",
    "model.add(Flatten())\n",
    "model.add(Dense(128, activation='relu'))\n",
    "model.add(Dropout(0.5))\n",
    "model.add(Dense(4, activation='softmax'))\n",
    "\n",
    "model.compile(loss='categorical_crossentropy',\n",
    "              optimizer='adam',\n",
    "              metrics=['accuracy'])\n",
    "\n",
    "model.fit(train_x, train_y,batch_size=32, nb_epoch=14, verbose=1)\n",
    "score1=model.evaluate(train_x,train_y, verbose=0)\n",
    "\n",
    "#print scores\n",
    "print(\"train score:\")\n",
    "print(score1)\n",
    "score = model.evaluate(test_x, test_y, verbose=0)\n",
    "print(\"total test score:\")\n",
    "print(score)\n",
    "score_cat = model.evaluate(test_x_cats, test_y_cats, verbose=0)\n",
    "print(\"cat score:\")\n",
    "print(score_cat)\n",
    "score_dog = model.evaluate(test_x_dogs, test_y_dogs, verbose=0)\n",
    "print(\"dog score:\")\n",
    "print(score_dog)\n",
    "score_jackal = model.evaluate(test_x_jackals, test_y_jackals, verbose=0)\n",
    "print(\"jackel score:\")\n",
    "print(score_jackal)\n",
    "score_sheep = model.evaluate(test_x_sheeps, test_y_sheeps, verbose=0)\n",
    "print(\"sheep score:\")\n",
    "print(score_sheep)"
   ]
  },
  {
   "cell_type": "code",
   "execution_count": 15,
   "metadata": {},
   "outputs": [
    {
     "name": "stdout",
     "output_type": "stream",
     "text": [
      "Cats\n",
      "Recall: 0.6\n",
      "Precision: 0.63\n",
      "\n",
      "\n",
      "Dogs\n",
      "Recall: 0.563\n",
      "Precision: 0.713\n",
      "\n",
      "\n",
      "Jackels\n",
      "Recall: 0.796\n",
      "Precision: 0.542\n",
      "\n",
      "\n",
      "Sheeps\n",
      "Recall: 0.878\n",
      "Precision: 0.819\n",
      "\n",
      "\n"
     ]
    }
   ],
   "source": [
    "#calculate precision and recall for each class\n",
    "from sklearn.metrics import classification_report\n",
    "y_pred = model.predict(test_x)\n",
    "predicted = []\n",
    "labels={0:\"Cats\", 1:\"Dogs\", 2:\"Jackels\", 3:\"Sheeps\"}\n",
    "for j in labels.keys():\n",
    "    tp=0; fn=0; fp=0; tn=0\n",
    "    for i in range(len(y_pred)):\n",
    "        really_is=test_y[i].tolist().index(max(test_y[i]))\n",
    "        classified_as=y_pred[i].tolist().index(max(y_pred[i]))\n",
    "        if really_is==j and classified_as==j:\n",
    "            tp+=1\n",
    "        elif really_is!=j and classified_as!=j:\n",
    "            tn+=1\n",
    "        elif really_is==j and classified_as!=j:\n",
    "            fn+=1\n",
    "        else:\n",
    "            fp+=1\n",
    "    print(labels[j])\n",
    "    print(\"Recall: \"+str(round(tp/(tp+fn),3)))\n",
    "    print(\"Precision: \"+str(round(tp/(tp+fp),3)))\n",
    "    print(\"\\n\")"
   ]
  },
  {
   "cell_type": "code",
   "execution_count": 16,
   "metadata": {
    "collapsed": true
   },
   "outputs": [],
   "source": [
    "from keras.models import load_model\n",
    "model.save(\"model.h5\")"
   ]
  }
 ],
 "metadata": {
  "kernelspec": {
   "display_name": "Python 3",
   "language": "python",
   "name": "python3"
  },
  "language_info": {
   "codemirror_mode": {
    "name": "ipython",
    "version": 3
   },
   "file_extension": ".py",
   "mimetype": "text/x-python",
   "name": "python",
   "nbconvert_exporter": "python",
   "pygments_lexer": "ipython3",
   "version": "3.6.3"
  }
 },
 "nbformat": 4,
 "nbformat_minor": 2
}
